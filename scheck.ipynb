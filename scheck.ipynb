{
 "cells": [
  {
   "cell_type": "code",
   "execution_count": null,
   "id": "d8e1e7de-ab71-4386-a3a8-28436f382e84",
   "metadata": {},
   "outputs": [],
   "source": [
    "import pandas as pd\n",
    "import os\n"
   ]
  },
  {
   "cell_type": "code",
   "execution_count": null,
   "id": "d804f338-cc02-4f52-8e56-84232bd392b5",
   "metadata": {},
   "outputs": [],
   "source": [
    "df_bado = pd.read_csv(os.path.join('data/BADO_adult/2022-11-11_appl2021_BADO_adult_top10_scores_annotations_reviewed.csv'))\n",
    "df_ghow = pd.read_csv(os.path.join('data/GHOW_adult/2022-11-11_appl2021_GHOW_adult_top10_scores_annotations.csv'))\n",
    "\n",
    "dfv = pd.read_csv(os.path.join('data/0_data-simp/_predictions.csv'))\n"
   ]
  },
  {
   "cell_type": "code",
   "execution_count": null,
   "id": "6d4a7e3e-44db-435e-a48f-9b916eaf37ca",
   "metadata": {
    "tags": []
   },
   "outputs": [],
   "source": [
    "dfv['filename'] = dfv['file'].apply(os.path.basename)\n",
    "dfv\n"
   ]
  },
  {
   "cell_type": "markdown",
   "id": "b688b2a6-8508-4922-99f3-d025ea0ae875",
   "metadata": {
    "tags": []
   },
   "source": [
    "## Process annoation dfs"
   ]
  },
  {
   "cell_type": "code",
   "execution_count": null,
   "id": "dd4f8267-ceb2-43d4-99c4-27dacd8756a3",
   "metadata": {},
   "outputs": [],
   "source": [
    "df_bado['filename'] = df_bado['clip'].apply(os.path.basename)\n",
    "df_ghow['filename'] = df_ghow['clip'].apply(os.path.basename)\n",
    "\n",
    "\n",
    "df_ghow['notes'] = df_ghow['GHOW_adult_notes']\n",
    "df_bado['notes'] = df_bado['BADO_adult_notes']\n",
    "\n",
    "dfa = pd.concat(\n",
    "    (df_bado[['notes','filename','start_time', 'end_time', 'BADO_adult', 'GHOW_adult']],\n",
    "          df_ghow[['notes','filename','start_time', 'end_time', 'BADO_adult', 'GHOW_adult']])\n",
    "    )\n",
    "\n"
   ]
  },
  {
   "cell_type": "markdown",
   "id": "88c07842-541d-4f55-87b8-3872f4b692c5",
   "metadata": {},
   "source": [
    "## Compare voice detections and annotations"
   ]
  },
  {
   "cell_type": "code",
   "execution_count": null,
   "id": "8397b226-dbb6-4fe2-b46b-6ceb893cf2d8",
   "metadata": {},
   "outputs": [],
   "source": [
    "\n",
    "\n",
    "dfv[['start', 'end', 'filename']].merge(dfa[['notes','filename','start_time', 'end_time', 'BADO_adult', 'GHOW_adult']], on='filename')\n"
   ]
  },
  {
   "cell_type": "code",
   "execution_count": null,
   "id": "f621bac0-ecfe-46f0-82b2-7688a2c86e00",
   "metadata": {},
   "outputs": [],
   "source": [
    "# Get longer filenames on EMU\n",
    "bado_folders = df_bado['file'].str.split('/', expand = True)[6].unique()\n",
    "gwoh_folders = df_ghow['file'].str.split('/', expand = True)[6].unique()\n",
    "\n",
    "# len(bado_folders)\n",
    "# len(gwoh_folders)\n",
    "bado_folders"
   ]
  }
 ],
 "metadata": {
  "kernelspec": {
   "display_name": "Python 3 (ipykernel)",
   "language": "python",
   "name": "python3"
  },
  "language_info": {
   "codemirror_mode": {
    "name": "ipython",
    "version": 3
   },
   "file_extension": ".py",
   "mimetype": "text/x-python",
   "name": "python",
   "nbconvert_exporter": "python",
   "pygments_lexer": "ipython3",
   "version": "3.8.13"
  }
 },
 "nbformat": 4,
 "nbformat_minor": 5
}
